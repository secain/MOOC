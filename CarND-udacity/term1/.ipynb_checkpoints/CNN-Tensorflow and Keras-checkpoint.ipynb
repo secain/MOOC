{
 "cells": [
  {
   "cell_type": "code",
   "execution_count": 4,
   "metadata": {},
   "outputs": [
    {
     "name": "stderr",
     "output_type": "stream",
     "text": [
      "C:\\Tools\\Anaconda\\lib\\site-packages\\ipykernel_launcher.py:19: UserWarning: Update your `Conv2D` call to the Keras 2 API: `Conv2D(32, (3, 3), input_shape=(32, 32, 3...)`\n"
     ]
    },
    {
     "name": "stdout",
     "output_type": "stream",
     "text": [
      "Train on 80 samples, validate on 20 samples\n",
      "Epoch 1/3\n",
      "80/80 [==============================] - 0s 5ms/step - loss: 1.3883 - acc: 0.3125 - val_loss: 0.8199 - val_acc: 0.4500\n",
      "Epoch 2/3\n",
      "80/80 [==============================] - 0s 2ms/step - loss: 0.8356 - acc: 0.5500 - val_loss: 0.6053 - val_acc: 0.8000\n",
      "Epoch 3/3\n",
      "80/80 [==============================] - 0s 1ms/step - loss: 0.6172 - acc: 0.7750 - val_loss: 0.4180 - val_acc: 0.8500\n"
     ]
    }
   ],
   "source": [
    "import pickle\n",
    "import numpy as np\n",
    "import tensorflow as tf\n",
    "# tf.python.control_flow_ops = tf\n",
    "\n",
    "with open('small_traffic_set/small_train_traffic.p', mode='rb') as f:\n",
    "    data = pickle.load(f)\n",
    "\n",
    "X_train, y_train = data['features'], data['labels']\n",
    "\n",
    "# Initial Setup for Keras\n",
    "from keras.models import Sequential\n",
    "from keras.layers.core import Dense, Activation, Flatten, Dropout\n",
    "from keras.layers.convolutional import Convolution2D\n",
    "from keras.layers.pooling import MaxPooling2D\n",
    "\n",
    "# Build the Fully Connected Neural Network in Keras Here\n",
    "model = Sequential()\n",
    "model.add(Convolution2D(32, (3, 3), input_shape=(32, 32, 3)))\n",
    "#Hint 1: The Keras example of a convolutional neural network for MNIST would be a good example to review.\n",
    "#Hint 2: You can set the padding type by passing in a border_mode= argument to the Convolution2D() layer.\n",
    "\n",
    "model.add(MaxPooling2D((2, 2)))\n",
    "model.add(Dropout(0.5))\n",
    "model.add(Activation('relu'))\n",
    "model.add(Flatten())\n",
    "model.add(Dense(128))\n",
    "model.add(Activation('relu'))\n",
    "model.add(Dense(5))\n",
    "model.add(Activation('softmax'))\n",
    "\n",
    "# model = Sequential()\n",
    "# model.add(Flatten(input_shape=(32, 32, 3)))\n",
    "# model.add(Dense(128))\n",
    "# model.add(Activation('relu'))\n",
    "# model.add(Dense(5))\n",
    "# model.add(Activation('softmax'))\n",
    "\n",
    "# preprocess data\n",
    "X_normalized = np.array(X_train / 255.0 - 0.5 )\n",
    "\n",
    "from sklearn.preprocessing import LabelBinarizer\n",
    "label_binarizer = LabelBinarizer() # 功能与OneHotEncoder相似，但可以处理非数值型数据\n",
    "y_one_hot = label_binarizer.fit_transform(y_train)\n",
    "\n",
    "model.compile('adam', 'categorical_crossentropy', ['accuracy'])\n",
    "history = model.fit(X_normalized, y_one_hot, epochs=3, validation_split=0.2)"
   ]
  },
  {
   "cell_type": "code",
   "execution_count": 3,
   "metadata": {},
   "outputs": [
    {
     "name": "stdout",
     "output_type": "stream",
     "text": [
      "Testing\n",
      "20/20 [==============================] - 0s 500us/step\n",
      "loss: 0.5408651232719421\n",
      "acc: 0.75\n"
     ]
    }
   ],
   "source": [
    "with open('small_traffic_set/small_test_traffic.p', 'rb') as f:\n",
    "    data_test = pickle.load(f)\n",
    "\n",
    "X_test = data_test['features']\n",
    "y_test = data_test['labels']\n",
    "\n",
    "# preprocess data\n",
    "X_normalized_test = np.array(X_test / 255.0 - 0.5 )\n",
    "y_one_hot_test = label_binarizer.fit_transform(y_test)\n",
    "\n",
    "print(\"Testing\")\n",
    "\n",
    "metrics = model.evaluate(X_normalized_test, y_one_hot_test)\n",
    "for metric_i in range(len(model.metrics_names)):\n",
    "    metric_name = model.metrics_names[metric_i]\n",
    "    metric_value = metrics[metric_i]\n",
    "    print('{}: {}'.format(metric_name, metric_value))"
   ]
  },
  {
   "cell_type": "code",
   "execution_count": null,
   "metadata": {},
   "outputs": [],
   "source": [
    "import tensorflow as tf\n",
    "input = tf.placeholder(tf.float32, (None, 32, 32, 3))\n",
    "filter_weights = tf.Variable(tf.truncated_normal((8, 8, 3, 20))) # (height, width, input_depth, output_depth)\n",
    "filter_bias = tf.Variable(tf.zeros(20))\n",
    "strides = [1, 2, 2, 1] # (batch, height, width, depth)\n",
    "padding = 'SAME'\n",
    "conv = tf.nn.conv2d(input, filter_weights, strides, padding) + filter_bias"
   ]
  },
  {
   "cell_type": "markdown",
   "metadata": {},
   "source": [
    "##### In summary TensorFlow uses the following equation for 'SAME' vs 'VALID'\n",
    "\n",
    "**SAME** Padding, the output height and width are computed as:\n",
    "\n",
    "* out_height = ceil(float(in_height) / float(strides[1]))\n",
    "\n",
    "* out_width = ceil(float(in_width) / float(strides[2]))\n",
    "\n",
    "**VALID** Padding, the output height and width are computed as:\n",
    "\n",
    "* out_height = ceil(float(in_height - filter_height + 1) / float(strides[1]))\n",
    "\n",
    "* out_width = ceil(float(in_width - filter_width + 1) / float(strides[2]))"
   ]
  },
  {
   "cell_type": "code",
   "execution_count": null,
   "metadata": {},
   "outputs": [],
   "source": [
    "# Output depth\n",
    "k_output = 64\n",
    "\n",
    "# Image Properties\n",
    "image_width = 10\n",
    "image_height = 10\n",
    "color_channels = 3\n",
    "\n",
    "# Convolution filter\n",
    "filter_size_width = 5\n",
    "filter_size_height = 5\n",
    "\n",
    "# Input/Image\n",
    "input = tf.placeholder(\n",
    "    tf.float32,\n",
    "    shape=[None, image_height, image_width, color_channels])\n",
    "\n",
    "# Weight and bias\n",
    "weight = tf.Variable(tf.truncated_normal(\n",
    "    [filter_size_height, filter_size_width, color_channels, k_output]))\n",
    "bias = tf.Variable(tf.zeros(k_output))\n",
    "\n",
    "# Apply Convolution\n",
    "conv_layer = tf.nn.conv2d(input, weight, strides=[1, 2, 2, 1], padding='SAME')\n",
    "# Add bias\n",
    "conv_layer = tf.nn.bias_add(conv_layer, bias)\n",
    "# Apply activation function\n",
    "conv_layer = tf.nn.relu(conv_layer)\n",
    "\n",
    "# Apply Max Pooling\n",
    "conv_layer = tf.nn.max_pool(\n",
    "    conv_layer,\n",
    "    ksize=[1, 2, 2, 1],\n",
    "    strides=[1, 2, 2, 1],\n",
    "    padding='SAME')"
   ]
  },
  {
   "cell_type": "markdown",
   "metadata": {},
   "source": [
    "The code above uses the **tf.nn.conv2d()** function to compute the convolution with weight as the filter and **[1, 2, 2, 1]** for the strides. TensorFlow uses a stride for each input dimension, **[batch, input_height, input_width, input_channels]**.\n",
    "\n",
    "You'll focus on changing input_height and input_width while setting batch and input_channels to 1. \n",
    "This example code uses a stride of 2 with 5x5 filter over input.\n",
    "\n",
    "The **tf.nn.bias_add()** function adds a 1-d bias to the last dimension in a matrix.\n",
    "\n",
    "The **tf.nn.max_pool()** function performs max pooling with the ksize parameter as the size of the filter and the strides parameter as the length of the stride. **2x2** filters with a stride of **2x2** are common in practice.\n",
    "\n",
    "The ksize and strides parameters are structured as **4-element** lists, with each element corresponding to a dimension of the input tensor **([batch, height, width, channels])**. For both ksize and strides, the batch and channel dimensions are typically set to **1**."
   ]
  },
  {
   "cell_type": "code",
   "execution_count": 7,
   "metadata": {},
   "outputs": [
    {
     "data": {
      "text/plain": [
       "array([2, 2, 3, 2, 4, 3, 3, 3, 1, 4, 2, 4, 2, 5, 1, 4, 5, 1, 1, 1, 4, 2,\n",
       "       1, 4, 5, 3, 4, 1, 3, 4, 4, 5, 5, 1, 4, 5, 2, 5, 1, 5, 3, 5, 2, 2,\n",
       "       1, 3, 5, 5, 4, 2, 5, 4, 3, 3, 2, 5, 3, 2, 3, 3, 1, 5, 5, 2, 1, 2,\n",
       "       2, 2, 4, 1, 5, 4, 4, 5, 5, 3, 1, 3, 4, 3, 4, 4, 5, 2, 4, 1, 3, 5,\n",
       "       4, 4, 2, 5, 1, 1, 2, 3, 1, 3, 1, 4], dtype=uint8)"
      ]
     },
     "execution_count": 7,
     "metadata": {},
     "output_type": "execute_result"
    }
   ],
   "source": [
    "y_train"
   ]
  },
  {
   "cell_type": "code",
   "execution_count": null,
   "metadata": {},
   "outputs": [],
   "source": []
  }
 ],
 "metadata": {
  "kernelspec": {
   "display_name": "Python 3",
   "language": "python",
   "name": "python3"
  },
  "language_info": {
   "codemirror_mode": {
    "name": "ipython",
    "version": 3
   },
   "file_extension": ".py",
   "mimetype": "text/x-python",
   "name": "python",
   "nbconvert_exporter": "python",
   "pygments_lexer": "ipython3",
   "version": "3.6.7"
  }
 },
 "nbformat": 4,
 "nbformat_minor": 2
}
